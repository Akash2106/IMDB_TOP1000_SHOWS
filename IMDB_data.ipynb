{
 "cells": [
  {
   "cell_type": "code",
   "execution_count": 1,
   "source": [
    "import pandas as pd\r\n",
    "import numpy as np\r\n",
    "import requests\r\n",
    "import os\r\n",
    "from requests import get\r\n",
    "from bs4 import BeautifulSoup\r\n",
    "import time\r\n",
    "from time import sleep\r\n",
    "from random import randint"
   ],
   "outputs": [],
   "metadata": {}
  },
  {
   "cell_type": "code",
   "execution_count": 2,
   "source": [
    "#Lists we are going to write into\r\n",
    "titles = []\r\n",
    "years = []\r\n",
    "run_time = []\r\n",
    "imdb_ratings = []\r\n",
    "metascores = []\r\n",
    "votes = []\r\n",
    "us_gross = []"
   ],
   "outputs": [],
   "metadata": {}
  },
  {
   "cell_type": "code",
   "execution_count": 3,
   "source": [
    "# Getting englight translated titles from the movies\r\n",
    "headers = {'Accept-Language': 'en-US, en;q=0.5'}"
   ],
   "outputs": [],
   "metadata": {}
  },
  {
   "cell_type": "code",
   "execution_count": 4,
   "source": [
    "# Each page of IMDB contains 50 movie titles and we want 1000 movies\r\n",
    "pages = np.arange(1,1001,50)\r\n",
    "pages"
   ],
   "outputs": [
    {
     "output_type": "execute_result",
     "data": {
      "text/plain": [
       "array([  1,  51, 101, 151, 201, 251, 301, 351, 401, 451, 501, 551, 601,\n",
       "       651, 701, 751, 801, 851, 901, 951])"
      ]
     },
     "metadata": {},
     "execution_count": 4
    }
   ],
   "metadata": {}
  },
  {
   "cell_type": "code",
   "execution_count": 5,
   "source": [
    "# sorting each of the URL of hte movies\r\n",
    "for page in pages:\r\n",
    "    # getting the content from each URL\r\n",
    "    page = requests.get('https://www.imdb.com/search/title/?groups=top_1000&start='+str(page)+'&ref_=adv_nxt', headers = headers)\r\n",
    "    soup = BeautifulSoup(page.text,'html.parser')\r\n",
    "    \r\n",
    "    # Aiming the part of the html we want to get hte info from\r\n",
    "    movie_div = soup.find_all('div',class_='lister-item mode-advanced')\r\n",
    "    \r\n",
    "    # Controlling the loop's rate by pausing the execution of the loop for a specified amount of time\r\n",
    "    #waiting time between requests for a number between 2-10 seconds\r\n",
    "    sleep(randint(2,10))\r\n",
    "    \r\n",
    "    for container in movie_div:\r\n",
    "        \r\n",
    "        #scraping the movie's name\r\n",
    "        name = container.h3.a.text\r\n",
    "        titles.append(name)\r\n",
    "        \r\n",
    "        #scraping the movie's Year\r\n",
    "        year = container.h3.find('span',class_='lister-item-year').text\r\n",
    "        years.append(year)\r\n",
    "        \r\n",
    "        # scraping hte movie's length\r\n",
    "        length = container.find('span',class_='runtime').text if container.p.find('span',class_='runtime') else '-'\r\n",
    "        run_time.append(length)\r\n",
    "        \r\n",
    "        # Scraping the rating\r\n",
    "        rate = float(container.strong.text)\r\n",
    "        imdb_ratings.append(rate)\r\n",
    "        \r\n",
    "        # Scraping the metascore\r\n",
    "        meta = container.find('span',class_='metascore').text if container.find('span',class_='metascore') else '-'\r\n",
    "        metascores.append(meta)\r\n",
    "        \r\n",
    "        #Scraping votes and gross earnings\r\n",
    "        nv = container.find_all('span',attrs={'name':'nv'})\r\n",
    "        vote = nv[0].text\r\n",
    "        votes.append(vote)\r\n",
    "        gross = nv[1].text if len(nv) > 1 else '-'\r\n",
    "        us_gross.append(gross)"
   ],
   "outputs": [],
   "metadata": {}
  },
  {
   "cell_type": "code",
   "execution_count": 6,
   "source": [
    "# Creating a dataset out of the lists that we generated\r\n",
    "\r\n",
    "Movies = pd.DataFrame({'Movies' : titles,\r\n",
    "                       'Release_year' : years,\r\n",
    "                       'Movie_length': run_time,\r\n",
    "                       'Rating':imdb_ratings,\r\n",
    "                       'Metascore':metascores,\r\n",
    "                       'Votes':votes,\r\n",
    "                       'Gross_earning':us_gross})\r\n",
    "Movies.head()"
   ],
   "outputs": [
    {
     "output_type": "execute_result",
     "data": {
      "text/html": [
       "<div>\n",
       "<style scoped>\n",
       "    .dataframe tbody tr th:only-of-type {\n",
       "        vertical-align: middle;\n",
       "    }\n",
       "\n",
       "    .dataframe tbody tr th {\n",
       "        vertical-align: top;\n",
       "    }\n",
       "\n",
       "    .dataframe thead th {\n",
       "        text-align: right;\n",
       "    }\n",
       "</style>\n",
       "<table border=\"1\" class=\"dataframe\">\n",
       "  <thead>\n",
       "    <tr style=\"text-align: right;\">\n",
       "      <th></th>\n",
       "      <th>Movies</th>\n",
       "      <th>Release_year</th>\n",
       "      <th>Movie_length</th>\n",
       "      <th>Rating</th>\n",
       "      <th>Metascore</th>\n",
       "      <th>Votes</th>\n",
       "      <th>Gross_earning</th>\n",
       "    </tr>\n",
       "  </thead>\n",
       "  <tbody>\n",
       "    <tr>\n",
       "      <th>0</th>\n",
       "      <td>Shang-Chi and the Legend of the Ten Rings</td>\n",
       "      <td>(2021)</td>\n",
       "      <td>132 min</td>\n",
       "      <td>8.0</td>\n",
       "      <td>71</td>\n",
       "      <td>40,479</td>\n",
       "      <td>-</td>\n",
       "    </tr>\n",
       "    <tr>\n",
       "      <th>1</th>\n",
       "      <td>Shershaah</td>\n",
       "      <td>(2021)</td>\n",
       "      <td>135 min</td>\n",
       "      <td>8.8</td>\n",
       "      <td>-</td>\n",
       "      <td>95,394</td>\n",
       "      <td>-</td>\n",
       "    </tr>\n",
       "    <tr>\n",
       "      <th>2</th>\n",
       "      <td>Once Upon a Time... In Hollywood</td>\n",
       "      <td>(2019)</td>\n",
       "      <td>161 min</td>\n",
       "      <td>7.6</td>\n",
       "      <td>83</td>\n",
       "      <td>631,469</td>\n",
       "      <td>$142.50M</td>\n",
       "    </tr>\n",
       "    <tr>\n",
       "      <th>3</th>\n",
       "      <td>The Shawshank Redemption</td>\n",
       "      <td>(1994)</td>\n",
       "      <td>142 min</td>\n",
       "      <td>9.3</td>\n",
       "      <td>80</td>\n",
       "      <td>2,456,113</td>\n",
       "      <td>$28.34M</td>\n",
       "    </tr>\n",
       "    <tr>\n",
       "      <th>4</th>\n",
       "      <td>Avengers: Endgame</td>\n",
       "      <td>(2019)</td>\n",
       "      <td>181 min</td>\n",
       "      <td>8.4</td>\n",
       "      <td>78</td>\n",
       "      <td>932,306</td>\n",
       "      <td>$858.37M</td>\n",
       "    </tr>\n",
       "  </tbody>\n",
       "</table>\n",
       "</div>"
      ],
      "text/plain": [
       "                                      Movies Release_year Movie_length  \\\n",
       "0  Shang-Chi and the Legend of the Ten Rings       (2021)      132 min   \n",
       "1                                  Shershaah       (2021)      135 min   \n",
       "2           Once Upon a Time... In Hollywood       (2019)      161 min   \n",
       "3                   The Shawshank Redemption       (1994)      142 min   \n",
       "4                          Avengers: Endgame       (2019)      181 min   \n",
       "\n",
       "   Rating   Metascore      Votes Gross_earning  \n",
       "0     8.0  71             40,479             -  \n",
       "1     8.8           -     95,394             -  \n",
       "2     7.6  83            631,469      $142.50M  \n",
       "3     9.3  80          2,456,113       $28.34M  \n",
       "4     8.4  78            932,306      $858.37M  "
      ]
     },
     "metadata": {},
     "execution_count": 6
    }
   ],
   "metadata": {}
  },
  {
   "cell_type": "code",
   "execution_count": 20,
   "source": [
    "# Data cleaing, starting with release year\r\n",
    "# Converting column Movies['Release_year'] into str first to clean it\r\n",
    "Movies['Release_year'] = Movies['Release_year'].astype(str)\r\n",
    "Movies['Release_year'] = Movies['Release_year'].str.extract('(\\d+)').astype(int)\r\n",
    "Movies['Movie_length'] = Movies['Movie_length'].str.extract('(\\d+)').astype(int)\r\n",
    "Movies['Metascore'] = Movies['Metascore'].str.extract('(\\d+)')\r\n",
    "# replacing '-' with nan and converting it to float\r\n",
    "Movies['Metascore'] = pd.to_numeric(Movies['Metascore'], errors='coerce')\r\n",
    "Movies['Votes'] = Movies['Votes'].str.replace(\",\",\"\").astype(int)\r\n"
   ],
   "outputs": [],
   "metadata": {}
  },
  {
   "cell_type": "code",
   "execution_count": null,
   "source": [],
   "outputs": [],
   "metadata": {}
  }
 ],
 "metadata": {
  "orig_nbformat": 4,
  "language_info": {
   "name": "python",
   "version": "3.8.8",
   "mimetype": "text/x-python",
   "codemirror_mode": {
    "name": "ipython",
    "version": 3
   },
   "pygments_lexer": "ipython3",
   "nbconvert_exporter": "python",
   "file_extension": ".py"
  },
  "kernelspec": {
   "name": "python3",
   "display_name": "Python 3.8.8 64-bit"
  },
  "interpreter": {
   "hash": "770021e68aae5e5bc49f7a3b6edb919a4a251fef8e7696fd47196c25263b13c4"
  }
 },
 "nbformat": 4,
 "nbformat_minor": 2
}